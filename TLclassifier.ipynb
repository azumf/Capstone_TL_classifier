{
 "cells": [
  {
   "cell_type": "code",
   "execution_count": 1,
   "metadata": {},
   "outputs": [],
   "source": [
    "import glob\n",
    "import sys"
   ]
  },
  {
   "cell_type": "code",
   "execution_count": 2,
   "metadata": {},
   "outputs": [
    {
     "data": {
      "text/plain": [
       "'c:\\\\anaconda3\\\\envs\\\\test\\\\python.exe'"
      ]
     },
     "execution_count": 2,
     "metadata": {},
     "output_type": "execute_result"
    }
   ],
   "source": [
    "sys.executable"
   ]
  },
  {
   "cell_type": "code",
   "execution_count": 3,
   "metadata": {},
   "outputs": [],
   "source": [
    "import tensorflow as tf"
   ]
  },
  {
   "cell_type": "code",
   "execution_count": 4,
   "metadata": {},
   "outputs": [],
   "source": [
    "from tensorflow.python.client import device_lib\n",
    "\n",
    "def get_available_gpus():\n",
    "    local_device_protos = device_lib.list_local_devices()\n",
    "    return [x.name for x in local_device_protos if x.device_type == 'GPU']"
   ]
  },
  {
   "cell_type": "code",
   "execution_count": 8,
   "metadata": {},
   "outputs": [
    {
     "data": {
      "text/plain": [
       "[name: \"/device:CPU:0\"\n",
       " device_type: \"CPU\"\n",
       " memory_limit: 268435456\n",
       " locality {\n",
       " }\n",
       " incarnation: 8138130141649694865, name: \"/device:GPU:0\"\n",
       " device_type: \"GPU\"\n",
       " memory_limit: 1489587404\n",
       " locality {\n",
       "   bus_id: 1\n",
       "   links {\n",
       "   }\n",
       " }\n",
       " incarnation: 7068750757361210374\n",
       " physical_device_desc: \"device: 0, name: GeForce GTX 950M, pci bus id: 0000:01:00.0, compute capability: 5.0\"]"
      ]
     },
     "execution_count": 8,
     "metadata": {},
     "output_type": "execute_result"
    }
   ],
   "source": [
    "get_available_gpus()\n",
    "device_lib.list_local_devices()"
   ]
  },
  {
   "cell_type": "code",
   "execution_count": 5,
   "metadata": {},
   "outputs": [
    {
     "name": "stdout",
     "output_type": "stream",
     "text": [
      "Default GPU Device: /device:GPU:0\n"
     ]
    }
   ],
   "source": [
    "if tf.test.gpu_device_name():\n",
    "    print('Default GPU Device: {}'.format(tf.test.gpu_device_name()))\n",
    "else:\n",
    "    print(\"Please install GPU version of TF\")    "
   ]
  },
  {
   "cell_type": "code",
   "execution_count": 6,
   "metadata": {},
   "outputs": [
    {
     "name": "stderr",
     "output_type": "stream",
     "text": [
      "Using TensorFlow backend.\n"
     ]
    }
   ],
   "source": [
    "from keras.models import Sequential\n",
    "from keras.layers import Conv2D, Flatten, Dense, MaxPooling2D, Dropout, Activation\n",
    "from keras import losses, optimizers, regularizers"
   ]
  },
  {
   "cell_type": "code",
   "execution_count": 7,
   "metadata": {},
   "outputs": [],
   "source": [
    "from keras.backend.tensorflow_backend import set_session\n",
    "#config = tf.ConfigProto()\n",
    "#config.gpu_options.per_process_gpu_memory_fraction = 0.2\n",
    "#set_session(tf.Session(config=config))"
   ]
  },
  {
   "cell_type": "code",
   "execution_count": 8,
   "metadata": {},
   "outputs": [],
   "source": [
    "import numpy as np\n",
    "import matplotlib.pyplot as plt\n",
    "import cv2"
   ]
  },
  {
   "cell_type": "code",
   "execution_count": 9,
   "metadata": {},
   "outputs": [
    {
     "data": {
      "text/plain": [
       "<matplotlib.figure.Figure at 0x1a67a7c3c50>"
      ]
     },
     "metadata": {},
     "output_type": "display_data"
    }
   ],
   "source": [
    "%matplotlib inline\n",
    "fig = plt.figure()"
   ]
  },
  {
   "cell_type": "code",
   "execution_count": 10,
   "metadata": {},
   "outputs": [],
   "source": [
    "X_train_data, X_label = [], []\n",
    "for image_class, dir_ in enumerate(['red', 'yellow', 'green', 'none']):\n",
    "    for idx, img_name in enumerate(glob.glob('{}/*.jpg'.format(dir_))):\n",
    "        file = cv2.imread(img_name)\n",
    "        # convert from BGR to RGB\n",
    "        file = cv2.cvtColor(file, cv2.COLOR_BGR2RGB)\n",
    "        # resize image\n",
    "        file_resized = cv2.resize(file, (32,64))\n",
    "        # normalize\n",
    "        X_train_data.append(file_resized/255.)\n",
    "        X_label.append(image_class)\n",
    "\n",
    "X_train_data = np.array(X_train_data)\n",
    "X_label = np.array(X_label)"
   ]
  },
  {
   "cell_type": "code",
   "execution_count": 11,
   "metadata": {},
   "outputs": [
    {
     "data": {
      "text/plain": [
       "367"
      ]
     },
     "execution_count": 11,
     "metadata": {},
     "output_type": "execute_result"
    }
   ],
   "source": [
    "len(X_train_data)"
   ]
  },
  {
   "cell_type": "code",
   "execution_count": 14,
   "metadata": {},
   "outputs": [],
   "source": [
    "from keras.utils.np_utils import to_categorical\n",
    "# One-hot encode the labels\n",
    "X_label_onehot = to_categorical(X_label) "
   ]
  },
  {
   "cell_type": "code",
   "execution_count": 15,
   "metadata": {},
   "outputs": [
    {
     "data": {
      "text/plain": [
       "array([[ 1.,  0.,  0.,  0.],\n",
       "       [ 1.,  0.,  0.,  0.],\n",
       "       [ 1.,  0.,  0.,  0.],\n",
       "       ..., \n",
       "       [ 0.,  0.,  0.,  1.],\n",
       "       [ 0.,  0.,  0.,  1.],\n",
       "       [ 0.,  0.,  0.,  1.]], dtype=float32)"
      ]
     },
     "execution_count": 15,
     "metadata": {},
     "output_type": "execute_result"
    }
   ],
   "source": [
    "X_label_onehot"
   ]
  },
  {
   "cell_type": "code",
   "execution_count": 16,
   "metadata": {},
   "outputs": [
    {
     "data": {
      "text/plain": [
       "<matplotlib.image.AxesImage at 0x25a7962c9b0>"
      ]
     },
     "execution_count": 16,
     "metadata": {},
     "output_type": "execute_result"
    },
    {
     "data": {
      "image/png": "[encoded data removed]",
      "text/plain": [
       "<matplotlib.figure.Figure at 0x25a79460518>"
      ]
     },
     "metadata": {},
     "output_type": "display_data"
    }
   ],
   "source": [
    "plt.imshow(X_train_data[1])"
   ]
  },
  {
   "cell_type": "code",
   "execution_count": 17,
   "metadata": {},
   "outputs": [
    {
     "name": "stdout",
     "output_type": "stream",
     "text": [
      "367\n",
      "330\n",
      "367\n"
     ]
    }
   ],
   "source": [
    "# Split into train and test set\n",
    "sep_val = round(len(X_label)*0.9)\n",
    "print(len(X_label))\n",
    "print(sep_val)\n",
    "print(len(X_label_onehot))"
   ]
  },
  {
   "cell_type": "code",
   "execution_count": 34,
   "metadata": {},
   "outputs": [
    {
     "name": "stdout",
     "output_type": "stream",
     "text": [
      "[4, 5, 5, 4, 4, 5, 5] [0, 1, 1, 0, 0, 1, 1]\n"
     ]
    }
   ],
   "source": [
    "#shuffle\n",
    "from sklearn.utils import shuffle\n",
    "test = [5,4,4,5,5,5,4]\n",
    "test2 = [1,0,0,1,1,1,0]\n",
    "test, test2 = shuffle(test, test2)\n",
    "print(test, test2)"
   ]
  },
  {
   "cell_type": "code",
   "execution_count": 35,
   "metadata": {},
   "outputs": [],
   "source": [
    "X_train_data, X_label_onehot = shuffle(X_train_data, X_label_onehot)"
   ]
  },
  {
   "cell_type": "code",
   "execution_count": 37,
   "metadata": {},
   "outputs": [
    {
     "data": {
      "text/plain": [
       "array([[ 0.,  0.,  0.,  1.],\n",
       "       [ 1.,  0.,  0.,  0.],\n",
       "       [ 0.,  1.,  0.,  0.],\n",
       "       ..., \n",
       "       [ 0.,  0.,  1.,  0.],\n",
       "       [ 1.,  0.,  0.,  0.],\n",
       "       [ 0.,  0.,  1.,  0.]], dtype=float32)"
      ]
     },
     "execution_count": 37,
     "metadata": {},
     "output_type": "execute_result"
    }
   ],
   "source": [
    "X_label_onehot"
   ]
  },
  {
   "cell_type": "code",
   "execution_count": 40,
   "metadata": {},
   "outputs": [
    {
     "data": {
      "text/plain": [
       "<matplotlib.image.AxesImage at 0x25a8a29d710>"
      ]
     },
     "execution_count": 40,
     "metadata": {},
     "output_type": "execute_result"
    },
    {
     "data": {
      "image/png": "[encoded data removed]",
      "text/plain": [
       "<matplotlib.figure.Figure at 0x25a89a285c0>"
      ]
     },
     "metadata": {},
     "output_type": "display_data"
    }
   ],
   "source": [
    "plt.imshow(X_train_data[2])"
   ]
  },
  {
   "cell_type": "code",
   "execution_count": 41,
   "metadata": {},
   "outputs": [
    {
     "name": "stdout",
     "output_type": "stream",
     "text": [
      "330 36 330 36\n"
     ]
    }
   ],
   "source": [
    "X_train = X_train_data[:sep_val]\n",
    "X_test = X_train_data[sep_val+1:]\n",
    "Y_train = X_label_onehot[:sep_val]\n",
    "Y_test = X_label_onehot[sep_val+1:]\n",
    "print(len(X_train), len(X_test), len(Y_train), len(Y_test))"
   ]
  },
  {
   "cell_type": "code",
   "execution_count": 42,
   "metadata": {},
   "outputs": [],
   "source": [
    "kernel_size = (3, 3)"
   ]
  },
  {
   "cell_type": "code",
   "execution_count": 88,
   "metadata": {},
   "outputs": [],
   "source": [
    "# Build the model\n",
    "num_classes = 4\n",
    "model = Sequential()\n",
    "model.add(Conv2D(32, kernel_size, input_shape=(64, 32, 3), padding='same', activation='relu', kernel_initializer='random_uniform', kernel_regularizer=regularizers.l2(0.01)))\n",
    "model.add(MaxPooling2D(2,2))\n",
    "Dropout(0.6)\n",
    "model.add(Conv2D(64, kernel_size, padding='same', activation='relu', kernel_initializer='random_uniform', kernel_regularizer=regularizers.l2(0.01)))\n",
    "model.add(MaxPooling2D(2,2))\n",
    "Dropout(0.6)\n",
    "model.add(Flatten())\n",
    "\n",
    "model.add(Dense(64, activation='relu', kernel_initializer='random_uniform', kernel_regularizer=regularizers.l2(0.01)))\n",
    "model.add(Dense(8, activation='relu', kernel_initializer='random_uniform', kernel_regularizer=regularizers.l2(0.01)))\n",
    "model.add(Dense(num_classes, activation='softmax'))"
   ]
  },
  {
   "cell_type": "code",
   "execution_count": 89,
   "metadata": {},
   "outputs": [],
   "source": [
    "loss = losses.categorical_crossentropy\n",
    "optimizer = optimizers.Adam()"
   ]
  },
  {
   "cell_type": "code",
   "execution_count": 90,
   "metadata": {},
   "outputs": [],
   "source": [
    "model.compile(loss=loss, optimizer=optimizer, metrics=['accuracy'])"
   ]
  },
  {
   "cell_type": "code",
   "execution_count": 91,
   "metadata": {},
   "outputs": [
    {
     "name": "stdout",
     "output_type": "stream",
     "text": [
      "Train on 313 samples, validate on 17 samples\n",
      "Epoch 1/20\n",
      " - 2s - loss: 4.9829 - acc: 0.3131 - val_loss: 3.8319 - val_acc: 0.2941\n",
      "Epoch 2/20\n",
      " - 0s - loss: 3.1990 - acc: 0.3450 - val_loss: 2.5005 - val_acc: 0.4118\n",
      "Epoch 3/20\n",
      " - 0s - loss: 2.1655 - acc: 0.4409 - val_loss: 1.7586 - val_acc: 0.4118\n",
      "Epoch 4/20\n",
      " - 0s - loss: 1.5732 - acc: 0.5240 - val_loss: 1.2081 - val_acc: 0.7647\n",
      "Epoch 5/20\n",
      " - 0s - loss: 1.2734 - acc: 0.6198 - val_loss: 0.9299 - val_acc: 0.7647\n",
      "Epoch 6/20\n",
      " - 0s - loss: 1.0602 - acc: 0.7157 - val_loss: 0.8626 - val_acc: 0.7647\n",
      "Epoch 7/20\n",
      " - 0s - loss: 0.9409 - acc: 0.7476 - val_loss: 0.7656 - val_acc: 0.7647\n",
      "Epoch 8/20\n",
      " - 0s - loss: 0.8092 - acc: 0.7987 - val_loss: 0.6757 - val_acc: 0.8824\n",
      "Epoch 9/20\n",
      " - 0s - loss: 0.7466 - acc: 0.8339 - val_loss: 0.6632 - val_acc: 0.8235\n",
      "Epoch 10/20\n",
      " - 0s - loss: 0.6717 - acc: 0.8466 - val_loss: 0.6316 - val_acc: 0.8235\n",
      "Epoch 11/20\n",
      " - 0s - loss: 0.6076 - acc: 0.9137 - val_loss: 0.5937 - val_acc: 0.8824\n",
      "Epoch 12/20\n",
      " - 0s - loss: 0.5683 - acc: 0.9137 - val_loss: 0.5658 - val_acc: 0.8824\n",
      "Epoch 13/20\n",
      " - 0s - loss: 0.5254 - acc: 0.9393 - val_loss: 0.4768 - val_acc: 0.9412\n",
      "Epoch 14/20\n",
      " - 0s - loss: 0.4654 - acc: 0.9425 - val_loss: 0.5185 - val_acc: 0.8824\n",
      "Epoch 15/20\n",
      " - 0s - loss: 0.4136 - acc: 0.9585 - val_loss: 0.5348 - val_acc: 0.8824\n",
      "Epoch 16/20\n",
      " - 0s - loss: 0.3892 - acc: 0.9617 - val_loss: 0.4698 - val_acc: 0.8235\n",
      "Epoch 17/20\n",
      " - 0s - loss: 0.4072 - acc: 0.9489 - val_loss: 0.6332 - val_acc: 0.8824\n",
      "Epoch 18/20\n",
      " - 0s - loss: 0.3849 - acc: 0.9617 - val_loss: 0.4788 - val_acc: 0.9412\n",
      "Epoch 19/20\n",
      " - 0s - loss: 0.3678 - acc: 0.9649 - val_loss: 0.4668 - val_acc: 0.8235\n",
      "Epoch 20/20\n",
      " - 0s - loss: 0.3455 - acc: 0.9744 - val_loss: 0.5075 - val_acc: 0.8824\n"
     ]
    }
   ],
   "source": [
    "tl_classifier = model.fit(X_train, Y_train, batch_size=32, epochs=20, verbose=2, validation_split=0.05, shuffle=True)"
   ]
  },
  {
   "cell_type": "code",
   "execution_count": 92,
   "metadata": {},
   "outputs": [
    {
     "data": {
      "image/png": "[encoded data removed]",
      "text/plain": [
       "<matplotlib.figure.Figure at 0x25ab42a4710>"
      ]
     },
     "metadata": {},
     "output_type": "display_data"
    }
   ],
   "source": [
    "# summarize history for loss\n",
    "plt.plot(tl_classifier.history['loss'])\n",
    "plt.plot(tl_classifier.history['val_loss'])\n",
    "plt.title('model loss')\n",
    "plt.ylabel('loss')\n",
    "plt.xlabel('epoch')\n",
    "plt.legend(['train', 'test'], loc='upper left')\n",
    "plt.show()"
   ]
  },
  {
   "cell_type": "code",
   "execution_count": 93,
   "metadata": {},
   "outputs": [
    {
     "name": "stdout",
     "output_type": "stream",
     "text": [
      "36/36 [==============================] - 0s 7ms/step\n",
      "Test data set: Correct predictions: 34 out of 36\n"
     ]
    }
   ],
   "source": [
    "prediction = model.predict(X_test, verbose=1)\n",
    "counter = 0\n",
    "counter_corr = 0\n",
    "for i in range(len(prediction)):\n",
    "    counter += 1\n",
    "    #print (i, prediction[i], Y_test[i])\n",
    "    if (np.argmax(prediction[i]) == np.argmax(Y_test[i])):\n",
    "        counter_corr += 1\n",
    "print('Test data set: Correct predictions: {} out of {}'.format(counter_corr, counter))\n",
    "        \n",
    "    "
   ]
  },
  {
   "cell_type": "code",
   "execution_count": 94,
   "metadata": {},
   "outputs": [
    {
     "data": {
      "text/plain": [
       "<matplotlib.image.AxesImage at 0x25ab40ed160>"
      ]
     },
     "execution_count": 94,
     "metadata": {},
     "output_type": "execute_result"
    },
    {
     "data": {
      "image/png": "[encoded data removed]",
      "text/plain": [
       "<matplotlib.figure.Figure at 0x25ab41ecda0>"
      ]
     },
     "metadata": {},
     "output_type": "display_data"
    }
   ],
   "source": [
    "plt.imshow(X_test[1])"
   ]
  },
  {
   "cell_type": "code",
   "execution_count": 95,
   "metadata": {},
   "outputs": [],
   "source": [
    "score = model.evaluate(X_test, Y_test, verbose=2)"
   ]
  },
  {
   "cell_type": "code",
   "execution_count": 96,
   "metadata": {},
   "outputs": [
    {
     "name": "stdout",
     "output_type": "stream",
     "text": [
      "[0.40079617500305176, 0.94444444444444442]\n"
     ]
    }
   ],
   "source": [
    "print(score)"
   ]
  },
  {
   "cell_type": "code",
   "execution_count": null,
   "metadata": {},
   "outputs": [],
   "source": []
  }
 ],
 "metadata": {
  "kernelspec": {
   "display_name": "Python 3",
   "language": "python",
   "name": "python3"
  },
  "language_info": {
   "codemirror_mode": {
    "name": "ipython",
    "version": 3
   },
   "file_extension": ".py",
   "mimetype": "text/x-python",
   "name": "python",
   "nbconvert_exporter": "python",
   "pygments_lexer": "ipython3",
   "version": "3.5.4"
  }
 },
 "nbformat": 4,
 "nbformat_minor": 2
}
